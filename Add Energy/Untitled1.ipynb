{
 "cells": [
  {
   "cell_type": "code",
   "execution_count": 1,
   "id": "64123f44-6b99-4a17-9199-c68f9d4d60df",
   "metadata": {},
   "outputs": [],
   "source": [
    "import numpy as np\n",
    "import matplotlib.pyplot as plt\n",
    "# import scipy.fftpack as spfft\n",
    "import time"
   ]
  },
  {
   "cell_type": "code",
   "execution_count": 53,
   "id": "554c189c-5d63-4f45-b26e-0109eb09500d",
   "metadata": {},
   "outputs": [],
   "source": [
    "Xpts = int(1e3)+1\n",
    "Xlngth = 10\n",
    "X = np.linspace(0, Xlngth, Xpts)\n",
    "dx = Xlngth/(Xpts-1)\n",
    "\n",
    "Tpts = int(1e3)+1\n",
    "Tlngth = 1\n",
    "T = np.linspace(0, Tlngth, Tpts)[:-1]\n",
    "dt = Tlngth/(Tpts-1)\n",
    "\n",
    "lmbd = dt/dx\n",
    "snaps = 10\n",
    "snap = 0\n",
    "\n",
    "mean_n = 3 / (4 * np.pi)\n",
    "Gamma_0 = 1\n",
    "kappa_0 = 1\n",
    "therm_cond = .01"
   ]
  },
  {
   "cell_type": "code",
   "execution_count": 23,
   "id": "e3ba6772-6086-4136-885e-617c6a26170a",
   "metadata": {},
   "outputs": [],
   "source": [
    "def l(array):\n",
    "        return np.roll(array, 1, axis=-1)  # Has Been Checked\n",
    "\n",
    "def r(array):\n",
    "    return np.roll(array, -1, axis=-1)  # Has Been Checked\n",
    "\n",
    "def ddx(array):  # Has Been Checked\n",
    "    return (array - l(array)) / dx\n",
    "\n",
    "def d2dx2(array):  # Has Been Checked\n",
    "    return (r(array) - 2*array + l(array)) / (dx * dx)"
   ]
  },
  {
   "cell_type": "code",
   "execution_count": 69,
   "id": "9e444eb6-3231-43fd-a846-874f209ffc04",
   "metadata": {},
   "outputs": [
    {
     "ename": "SyntaxError",
     "evalue": "invalid syntax (1809456235.py, line 24)",
     "output_type": "error",
     "traceback": [
      "\u001b[1;36m  Input \u001b[1;32mIn [69]\u001b[1;36m\u001b[0m\n\u001b[1;33m    np.array([\u001b[0m\n\u001b[1;37m    ^\u001b[0m\n\u001b[1;31mSyntaxError\u001b[0m\u001b[1;31m:\u001b[0m invalid syntax\n"
     ]
    }
   ],
   "source": [
    "n, ntot, nint, nflux, nfluxtot = np.zeros((2, Xpts)), np.zeros((snaps + 1, 2, Xpts)), np.zeros((snaps + 1, 2)), np.zeros((2, Xpts)), np.zeros((snaps + 1, 2, Xpts))\n",
    "v, vtot, vint, vflux, vfluxtot = np.zeros((2, Xpts)), np.zeros((snaps + 1, 2, Xpts)), np.zeros((snaps + 1, 2)), np.zeros((2, Xpts)), np.zeros((snaps + 1, 2, Xpts))\n",
    "e, etot, eint, eflux, efluxtot = np.zeros((2, Xpts)), np.zeros((snaps + 1, 2, Xpts)), np.zeros((snaps + 1, 2)), np.zeros((2, Xpts)), np.zeros((snaps + 1, 2, Xpts))\n",
    "phi, phimtx, phitot = np.zeros((2, Xpts)), np.zeros((2, Xpts)), np.zeros((snaps + 1, 2, Xpts))\n",
    "\n",
    "# Initial Conditions\n",
    "ICchoice = np.array([1, 1, 1]) # Gaussian = 0, Wave = 1, Random = 2, Equilibrium = 3\n",
    "ICdict = np.array([\n",
    "        np.array([\n",
    "            n_0 * np.ones(N) + .01 * np.exp(-(x - L / 2) ** 2) - .01 * np.sqrt(np.pi),\n",
    "            np.ones(N) + .01 * np.exp(-(x - L / 2) ** 2) - .01 * np.sqrt(np.pi),\n",
    "            np.ones(N) + .01 * np.exp(-(x - L / 2) ** 2) - .01 * np.sqrt(np.pi)\n",
    "        ]),\n",
    "        np.array([\n",
    "            n_0 * np.ones(N) + .01 * np.exp(-(x - L / 2) ** 2) - .01 * np.sqrt(np.pi),\n",
    "            np.ones(N) + .01 * np.cos(3*IC_freq * x),\n",
    "            np.ones(N) + .01 * np.cos(3*IC_freq * x)\n",
    "        ]),\n",
    "        np.array([\n",
    "            n_0 * np.ones(N) + .01 * np.random.random(N),\n",
    "            np.ones(N) + .01 * np.random.random(N),\n",
    "            np.ones(N) + .01 * np.random.random(N)\n",
    "        ])\n",
    "        np.array([\n",
    "            n_0 * np.ones(N),\n",
    "            np.zeros(N),\n",
    "            np.zeros(N)\n",
    "        ])\n",
    "    ])\n",
    "\n",
    "n[:] = ICdict[ICchoice[0]]\n",
    "v[:] = ICdict[ICchoice[1]]\n",
    "e[:] = ICdict[ICchoice[2]]\n",
    "\n",
    "def savesnap():\n",
    "    ntot[snap] = n\n",
    "    vtot[snap] = v\n",
    "    etot[snap] = e\n",
    "\n",
    "# TODO: Check versus Modified Thomas Algorithm\n",
    "phimtx = np.diag(2*np.ones(N))\n",
    "phimtxrow, phimtxcol = np.indices(phimtx.shape)\n",
    "phimtx[np.abs(phimtxrow - phimtxcol) == 1] = 1.\n",
    "phimtx[-1,0] = 1\n",
    "phimtx[0,-1] = 1\n",
    "\n",
    "b = -4*np.pi*dx*dx*(n - mean_n)\n",
    "\n",
    "phi = np.array([np.linalg.solve(phimtx, b[ii]) for ii in range(2)])\n"
   ]
  },
  {
   "cell_type": "code",
   "execution_count": 50,
   "id": "4e52b500-9713-470a-a524-11b5800745ab",
   "metadata": {},
   "outputs": [
    {
     "name": "stdout",
     "output_type": "stream",
     "text": [
      "[[  0.17145888   0.37061972   0.51175044   0.60215194   0.72870025\n",
      "    0.91209422   1.0695267    1.24099027   1.46068957   1.69506601\n",
      "    1.92416895   2.19178351   2.42073843   2.58748125   2.7198705\n",
      "    2.80690167   2.93674372   3.0831297    3.25721023   3.4704289\n",
      "    3.64526926   3.78761996   3.88383859   3.98552952   4.1192212\n",
      "    4.2883169    4.40878073   4.49319271   4.57825088   4.67059013\n",
      "    4.72139038   4.83113406   4.94045858   5.0485692    5.10640682\n",
      "    5.19788707   5.28268045   5.38258528   5.51348571   5.5987008\n",
      "    5.66623059   5.76183026   5.86171974   5.93275998   6.01746738\n",
      "    6.12612392   6.26265079   6.40407658   6.5871622    6.80100819\n",
      "    7.01139656   7.25793465   7.56096754   7.90557108   8.26793373\n",
      "    8.63706746   8.98190343   9.34311586   9.73284763  10.06769709\n",
      "   10.38084574  10.74902926  11.06257511  11.35722843  11.66791422\n",
      "   11.9924422   12.30868317  12.63014674  12.95986564  13.33025619\n",
      "   13.73581943  14.19085296  14.5851403   14.92400731  15.29375975\n",
      "   15.60938475  15.92912602  16.21563053  16.55299954  16.94485473\n",
      "   17.39096696  17.89090976  18.41611993  18.8785602   19.33877035\n",
      "   19.79806501  20.24304779  20.69647381  21.11313117  21.53283416\n",
      "   21.98537942  22.3807061   22.77664433  23.11962382  23.47547852\n",
      "   23.84517644  24.25837247  24.69343592  25.0655731    0.        ]\n",
      " [ -0.16388093  -0.3594677   -0.55688988  -0.75026172  -0.94207159\n",
      "   -1.08046392  -1.24249419  -1.41591896  -1.63105616  -1.8675321\n",
      "   -2.14115904  -2.3944389   -2.70049245  -3.01468131  -3.36393607\n",
      "   -3.69922654  -4.0030179   -4.28108305  -4.5445803   -4.81237997\n",
      "   -5.12617838  -5.50166514  -5.81889012  -6.11535724  -6.37903313\n",
      "   -6.70104638  -7.0045004   -7.26294072  -7.56973873  -7.83639628\n",
      "   -8.13008857  -8.47840023  -8.88616093  -9.23551816  -9.59467662\n",
      "   -9.97628071 -10.30110163 -10.62092299 -10.9572854  -11.30339566\n",
      "  -11.61168517 -11.96342961 -12.35919522 -12.74727435 -13.08199248\n",
      "  -13.46122827 -13.89832521 -14.32684351 -14.71162477 -15.06853394\n",
      "  -15.39399962 -15.67897218 -15.91726567 -16.1131669  -16.28212691\n",
      "  -16.46609669 -16.68302159 -16.92539655 -17.11091841 -17.24138616\n",
      "  -17.40846215 -17.51801807 -17.61544409 -17.68292529 -17.74483709\n",
      "  -17.81448557 -17.87292798 -17.97364983 -18.09557546 -18.24819616\n",
      "  -18.37765607 -18.47329312 -18.63243712 -18.74237522 -18.82121124\n",
      "  -18.8712962  -18.94050878 -19.01909628 -19.13060412 -19.23847457\n",
      "  -19.40474884 -19.54031909 -19.71499016 -19.9244655  -20.19073574\n",
      "  -20.47436462 -20.79682942 -21.11722681 -21.44992623 -21.74478682\n",
      "  -22.03925068 -22.38824103 -22.74120718 -23.14808847 -23.54376217\n",
      "  -23.90398545 -24.32231841 -24.71560836 -25.08488507   0.        ]]\n"
     ]
    }
   ],
   "source": [
    "\n",
    "\n"
   ]
  }
 ],
 "metadata": {
  "kernelspec": {
   "display_name": "Python 3 (ipykernel)",
   "language": "python",
   "name": "python3"
  },
  "language_info": {
   "codemirror_mode": {
    "name": "ipython",
    "version": 3
   },
   "file_extension": ".py",
   "mimetype": "text/x-python",
   "name": "python",
   "nbconvert_exporter": "python",
   "pygments_lexer": "ipython3",
   "version": "3.9.12"
  }
 },
 "nbformat": 4,
 "nbformat_minor": 5
}
