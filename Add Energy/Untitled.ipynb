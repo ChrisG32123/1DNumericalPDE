{
 "cells": [
  {
   "cell_type": "code",
   "execution_count": 1,
   "metadata": {},
   "outputs": [
    {
     "name": "stdout",
     "output_type": "stream",
     "text": [
      "[[[27 28 29]\n",
      "  [30 31 32]\n",
      "  [33 34 35]]\n",
      "\n",
      " [[36 37 38]\n",
      "  [39 40 41]\n",
      "  [42 43 44]]\n",
      "\n",
      " [[45 46 47]\n",
      "  [48 49 50]\n",
      "  [51 52 53]]]\n",
      "[[[33 34 35]\n",
      "  [27 28 29]\n",
      "  [30 31 32]]\n",
      "\n",
      " [[42 43 44]\n",
      "  [36 37 38]\n",
      "  [39 40 41]]\n",
      "\n",
      " [[51 52 53]\n",
      "  [45 46 47]\n",
      "  [48 49 50]]]\n",
      "[[[[33 34 35]\n",
      "   [27 28 29]\n",
      "   [30 31 32]]\n",
      "\n",
      "  [[ 9 10 11]\n",
      "   [12 13 14]\n",
      "   [15 16 17]]\n",
      "\n",
      "  [[18 19 20]\n",
      "   [21 22 23]\n",
      "   [24 25 26]]]\n",
      "\n",
      "\n",
      " [[[42 43 44]\n",
      "   [36 37 38]\n",
      "   [39 40 41]]\n",
      "\n",
      "  [[36 37 38]\n",
      "   [39 40 41]\n",
      "   [42 43 44]]\n",
      "\n",
      "  [[45 46 47]\n",
      "   [48 49 50]\n",
      "   [51 52 53]]]\n",
      "\n",
      "\n",
      " [[[51 52 53]\n",
      "   [45 46 47]\n",
      "   [48 49 50]]\n",
      "\n",
      "  [[63 64 65]\n",
      "   [66 67 68]\n",
      "   [69 70 71]]\n",
      "\n",
      "  [[72 73 74]\n",
      "   [75 76 77]\n",
      "   [78 79 80]]]]\n"
     ]
    }
   ],
   "source": [
    "import numpy as np\n",
    "\n",
    "a = np.arange(81)\n",
    "a = np.reshape(a,(3,3,3,3))\n",
    "\n",
    "b = np.arange(27,54)\n",
    "b = np.reshape(b,(3,3,3))\n",
    "\n",
    "def func(u):\n",
    "    u = np.roll(u,1,axis=1)\n",
    "    return u\n",
    "    \n",
    "print(b)\n",
    "print(func(b))\n",
    "a[:,0] = func(b[:])\n",
    "print(a)"
   ]
  }
 ],
 "metadata": {
  "kernelspec": {
   "display_name": "Python 3",
   "language": "python",
   "name": "python3"
  },
  "language_info": {
   "codemirror_mode": {
    "name": "ipython",
    "version": 3
   },
   "file_extension": ".py",
   "mimetype": "text/x-python",
   "name": "python",
   "nbconvert_exporter": "python",
   "pygments_lexer": "ipython3",
   "version": "3.8.3"
  }
 },
 "nbformat": 4,
 "nbformat_minor": 4
}
