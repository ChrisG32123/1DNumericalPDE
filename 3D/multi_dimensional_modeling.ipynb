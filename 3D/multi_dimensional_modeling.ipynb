{
 "cells": [
  {
   "cell_type": "code",
   "execution_count": 1,
   "metadata": {},
   "outputs": [],
   "source": [
    "%matplotlib qt\n",
    "from mpl_toolkits import mplot3d\n",
    "import numpy as np\n",
    "import matplotlib.pyplot as plt\n",
    "import time"
   ]
  },
  {
   "cell_type": "markdown",
   "metadata": {},
   "source": [
    "# 2+1D Transport Equation"
   ]
  },
  {
   "cell_type": "code",
   "execution_count": 2,
   "metadata": {},
   "outputs": [],
   "source": [
    "# Numerical Parameters\n",
    "\n",
    "# Grid Points and Time Steps\n",
    "N = int(1e2+1) # +1 for Off-By-One on Periodic BC\n",
    "M = int(1e2+1)\n",
    "T = int(5e2+1)\n",
    "# Domain Size\n",
    "L = 50\n",
    "K = 50\n",
    "# Domain\n",
    "x = np.linspace(0, L, N)\n",
    "y = np.linspace(0, K, M)\n",
    "# Grid Size and Time Step Size\n",
    "dx = x[2] - x[1]\n",
    "dy = y[2] - y[1]\n",
    "dt = 1e-2\n",
    "\n",
    "lmbdx = dt/dx\n",
    "lmbdy = dt/dy\n",
    "\n",
    "# Coordinate Plane\n",
    "xx,yy = np.meshgrid(x,y)\n",
    "t = dt * T"
   ]
  },
  {
   "cell_type": "code",
   "execution_count": 3,
   "metadata": {},
   "outputs": [],
   "source": [
    "# Memory Allocation\n",
    "u = np.zeros((T,M,N))"
   ]
  },
  {
   "cell_type": "code",
   "execution_count": 4,
   "metadata": {},
   "outputs": [
    {
     "name": "stdout",
     "output_type": "stream",
     "text": [
      "0.6 0.4\n"
     ]
    }
   ],
   "source": [
    "# Inital Condition\n",
    "rho_0 = 1\n",
    "freq = 2*np.pi\n",
    "freq_x = 2*freq/L\n",
    "freq_y = 3*freq/K\n",
    "uIC = rho_0 + 2*np.sin(freq_x*xx)+np.sin(freq_y*yy)\n",
    "u[0] = np.copy(uIC)\n",
    "\n",
    "Fx = 30\n",
    "Fy = 20\n",
    "\n",
    "print(lmbdx*Fx+lmbdy*Fy)\n",
    "# print(u[0])"
   ]
  },
  {
   "cell_type": "code",
   "execution_count": 5,
   "metadata": {},
   "outputs": [],
   "source": [
    "#Plotting\n",
    "def plot(utt):\n",
    "    fig = plt.figure(figsize=(15,15))\n",
    "    ax = plt.axes(projection='3d')\n",
    "    # ax.contour3D(xx, yy, uIC, 50, cmap='binary')\n",
    "    # for elm in u:\n",
    "    #     ax.contour3D(xx, yy, elm, 500, cmap='binary')\n",
    "    ax.contour3D(xx,yy,utt,100)\n",
    "    ax.set_xlabel('x')\n",
    "    ax.set_ylabel('y')\n",
    "    ax.set_zlabel('u')\n",
    "    plt.show()"
   ]
  },
  {
   "cell_type": "code",
   "execution_count": 6,
   "metadata": {},
   "outputs": [],
   "source": [
    "# # Solve\n",
    "\n",
    "# st = time.time()\n",
    "\n",
    "# for tt in range(0,T-1):\n",
    "    \n",
    "#     uU = np.roll(u,1,axis=1)\n",
    "#     uD = np.roll(u,-1,axis=1)\n",
    "#     uL = np.roll(u,1,axis=2)\n",
    "#     uR = np.roll(u,-1,axis=2)\n",
    "\n",
    "#     u[tt+1,:,0] = u[tt,:,0] - lmbdy*Fy*(u[tt,:,0]-u[tt,:,-1]) - lmbdx*Fx*(u[tt,:,0]-np.roll(u,1)[tt,:,0])\n",
    "#     for jj in range(1,N):\n",
    "#         u[tt+1,0,jj] = u[tt,0,jj] - lmbdy*Fy*(u[tt,0,jj]-u[tt,0,jj-1]) - lmbdx*Fx*(u[tt,0,jj]-u[tt,-1,jj])\n",
    "#         for ii in range(1,M):\n",
    "#             u[tt+1,ii,jj] = u[tt,ii,jj] - lmbdy*Fy*(u[tt,ii,jj]-u[tt,ii,jj-1]) - lmbdx*Fx*(u[tt,ii,jj]-u[tt,ii-1,jj])\n",
    "            \n",
    "# #     u[:,0] = u[:,0] - lmbdy*Fy*(u[:,0]-u[:,-1]) - lmbdx*Fx*(u[:,0]-np.roll(u,1)[:,0])\n",
    "# #     for jj in range(1,M):\n",
    "# #         u[0,jj] = u[0,jj] - lmbdy*Fy*(u[0,jj]-u[0,jj-1]) - lmbdx*Fx*(u[0,jj]-u[-1,jj])\n",
    "# #         for ii in range(1,N):\n",
    "# #             u[ii,jj] = u[ii,jj] - lmbdy*Fy*(u[ii,jj]-u[ii,jj-1]) - lmbdx*Fx*(u[ii,jj]-u[ii-1,jj])   \n",
    "\n",
    "#     if tt % ((T-1)/10) == 0:\n",
    "#         print(tt)\n",
    "        \n",
    "# et = time.time()"
   ]
  },
  {
   "cell_type": "code",
   "execution_count": 7,
   "metadata": {},
   "outputs": [
    {
     "name": "stdout",
     "output_type": "stream",
     "text": [
      "0\n",
      "50\n",
      "100\n",
      "150\n",
      "200\n",
      "250\n",
      "300\n",
      "350\n",
      "400\n",
      "450\n",
      "Execution time: 21.027485609054565 seconds\n"
     ]
    }
   ],
   "source": [
    "# Solve\n",
    "st = time.time()\n",
    "for tt in range(0,T-1):\n",
    "    \n",
    "#     uU = np.roll(u,1,axis=1)\n",
    "#     uD = np.roll(u,-1,axis=1)\n",
    "#     uL = np.roll(u,1,axis=2)\n",
    "#     uR = np.roll(u,-1,axis=2)\n",
    "\n",
    "#     u[tt+1] = (1-lmbdy*Fy*- lmbdx*Fx)*u[tt]+lmbdy*Fy*uD[tt]+lmbdx*Fx*uL[tt]\n",
    "\n",
    "    for jj in range(0,M):\n",
    "        for ii in range(0,N):\n",
    "            u[tt+1,jj,ii] = u[tt,jj,ii] - lmbdy*Fy*(u[tt,jj,ii]-u[tt,jj-1,ii]) - lmbdx*Fx*(u[tt,jj,ii]-u[tt,jj,ii-1])\n",
    "\n",
    "\n",
    "#     for jj in range(1,M):\n",
    "#         u[tt+1,jj,0] = u[tt,jj,0] - lmbdy*Fy*(u[tt,jj,0]-u[tt,jj-1,0]) - lmbdx*Fx*(u[tt,jj,0]-u[tt,jj,-1])\n",
    "#         for ii in range(1,N):\n",
    "#             u[tt+1,jj,ii] = u[tt,jj,ii] - lmbdy*Fy*(u[tt,jj,ii]-u[tt,jj-1,ii]) - lmbdx*Fx*(u[tt,jj,ii]-u[tt,jj,ii-1])\n",
    "            \n",
    "# #     u[:,0] = u[:,0] - lmbdy*Fy*(u[:,0]-u[:,-1]) - lmbdx*Fx*(u[:,0]-np.roll(u,1)[:,0])\n",
    "# #     for jj in range(1,M):\n",
    "# #         u[0,jj] = u[0,jj] - lmbdy*Fy*(u[0,jj]-u[0,jj-1]) - lmbdx*Fx*(u[0,jj]-u[-1,jj])\n",
    "# #         for ii in range(1,N):\n",
    "# #             u[ii,jj] = u[ii,jj] - lmbdy*Fy*(u[ii,jj]-u[ii,jj-1]) - lmbdx*Fx*(u[ii,jj]-u[ii-1,jj])   \n",
    "\n",
    "    if tt % ((T-1)/10) == 0:\n",
    "        print(tt)\n",
    "et = time.time()\n",
    "\n",
    "elapsed_time = et - st\n",
    "print('Execution time:', elapsed_time, 'seconds')"
   ]
  },
  {
   "cell_type": "code",
   "execution_count": 8,
   "metadata": {},
   "outputs": [],
   "source": [
    "# # Solve\n",
    "# st = time.time()\n",
    "# for tt in range(0,T-1):\n",
    "    \n",
    "#     utt = u[tt].flatten()\n",
    "    \n",
    "#     for ij in range(N*M):\n",
    "#         u[tt+1,ij] = (1-lmbdy*Fy*- lmbdx*Fx)*utt[ij]+lmbdy*Fy*utt[ij-1]+lmbdx*Fx*utt[ij-N]\n",
    "# #     for jj in range(1,N):\n",
    "# #         u[tt+1,0,jj] = u[tt,0,jj] - lmbdy*Fy*(u[tt,0,jj]-u[tt,0,jj-1]) - lmbdx*Fx*(u[tt,0,jj]-u[tt,-1,jj])\n",
    "# #         for ii in range(1,M):\n",
    "# #             u[tt+1,ii,jj] = u[tt,ii,jj] - lmbdy*Fy*(u[tt,ii,jj]-u[tt,ii,jj-1]) - lmbdx*Fx*(u[tt,ii,jj]-u[tt,ii-1,jj])\n",
    "            \n",
    "# #     u[:,0] = u[:,0] - lmbdy*Fy*(u[:,0]-u[:,-1]) - lmbdx*Fx*(u[:,0]-np.roll(u,1)[:,0])\n",
    "# #     for jj in range(1,M):\n",
    "# #         u[0,jj] = u[0,jj] - lmbdy*Fy*(u[0,jj]-u[0,jj-1]) - lmbdx*Fx*(u[0,jj]-u[-1,jj])\n",
    "# #         for ii in range(1,N):\n",
    "# #             u[ii,jj] = u[ii,jj] - lmbdy*Fy*(u[ii,jj]-u[ii,jj-1]) - lmbdx*Fx*(u[ii,jj]-u[ii-1,jj])   \n",
    "\n",
    "#     if tt % ((T-1)/10) == 0:\n",
    "#         print(tt)\n",
    "# et = time.time()\n",
    "\n",
    "# elapsed_time = et - st\n",
    "# print('Execution time:', elapsed_time, 'seconds')"
   ]
  },
  {
   "cell_type": "code",
   "execution_count": 9,
   "metadata": {},
   "outputs": [],
   "source": [
    "# #Plotting\n",
    "# fig = plt.figure(figsize=(15,15))\n",
    "# ax = plt.axes(projection='3d')\n",
    "# # ax.contour3D(xx, yy, uIC, 50, cmap='binary')\n",
    "# for elm in u:\n",
    "#     ax.contour3D(xx, yy, elm, 500, cmap='binary')\n",
    "# ax.set_xlabel('x')\n",
    "# ax.set_ylabel('y')\n",
    "# ax.set_zlabel('u')\n",
    "# plt.show()"
   ]
  },
  {
   "cell_type": "code",
   "execution_count": 10,
   "metadata": {},
   "outputs": [],
   "source": [
    "#Animation\n",
    "import matplotlib.animation as animation\n",
    "import networkx as nx\n",
    "from matplotlib.animation import FuncAnimation, PillowWriter \n",
    "\n",
    "def change_plot(frame_number, u, plot):\n",
    "   plot[0].remove()\n",
    "   plot[0] = ax.plot_surface(xx, yy, u[frame_number,:,:], cmap=\"viridis\")\n",
    "\n",
    "fig = plt.figure()\n",
    "ax = fig.add_subplot(111, projection='3d')\n",
    "\n",
    "plot = [ax.plot_surface(xx, yy, u[0, :, :], color='0.75', rstride=10, cstride=10)]\n",
    "ax.set_zlim(np.min(u),np.max(u))\n",
    "\n",
    "# ani = animation.FuncAnimation(fig, change_plot)\n",
    "\n",
    "ani = animation.FuncAnimation(fig, change_plot, T, fargs=(u, plot), interval= 100, save_count=1000)\n",
    "ani.save(filename=r\"C:\\Users\\Chris Gerlach\\OneDrive\\Desktop\\PDEmultidimension.gif\", writer='pillow',fps=30)\n",
    "\n",
    "plt.show()"
   ]
  },
  {
   "cell_type": "code",
   "execution_count": 11,
   "metadata": {},
   "outputs": [],
   "source": [
    "# # converting to an html5 video\n",
    "# video = ani.to_html5_video()\n",
    "  \n",
    "# # embedding for the video\n",
    "# html = display.HTML(video)\n",
    "  \n",
    "# # draw the animation\n",
    "# display.display(html)\n",
    "# plt.show()"
   ]
  },
  {
   "cell_type": "code",
   "execution_count": 12,
   "metadata": {},
   "outputs": [],
   "source": [
    "# #Animation\n",
    "\n",
    "# import matplotlib.animation as animation\n",
    "\n",
    "# plt.rcParams[\"figure.figsize\"] = [7.50, 3.50]\n",
    "# plt.rcParams[\"figure.autolayout\"] = True\n",
    "\n",
    "# N = 100\n",
    "# fps = 1000\n",
    "# frn = 50\n",
    "\n",
    "# x = np.linspace(-4, 4, N + 1)\n",
    "# x, y = np.meshgrid(x, x)\n",
    "# zarray = np.zeros((N + 1, N + 1, frn))\n",
    "\n",
    "# f = lambda x, y, sig: 1 / np.sqrt(sig) * np.exp(-(x ** 2 + y ** 2) / sig ** 2)\n",
    "\n",
    "# for i in range(frn):\n",
    "#    zarray[:, :, i] = f(x, y, 1.5 + np.sin(i * 2 * np.pi / frn))\n",
    "\n",
    "# def change_plot(frame_number, zarray, plot):\n",
    "#    plot[0].remove()\n",
    "#    plot[0] = ax.plot_surface(x, y, zarray[:, :, frame_number], cmap=\"afmhot_r\")\n",
    "\n",
    "# fig = plt.figure()\n",
    "# ax = fig.add_subplot(111, projection='3d')\n",
    "\n",
    "# plot = [ax.plot_surface(x, y, zarray[:, :, 0], color='0.75', rstride=1, cstride=1)]\n",
    "\n",
    "# ax.set_zlim(0, 1.1)\n",
    "# ani = animation.FuncAnimation(fig, change_plot, frn, fargs=(zarray, plot), interval=1000 / fps)\n",
    "\n",
    "# plt.show()"
   ]
  },
  {
   "cell_type": "code",
   "execution_count": 13,
   "metadata": {},
   "outputs": [],
   "source": [
    "# # Domain\n",
    "# def domain(Nx, Ny, x0, xf, y0, yf):\n",
    "#     x = np.linspace(x0,xf, Nx+1)\n",
    "#     y = np.linspace(y0,yf, Ny+1)\n",
    "#     # z = np.linspace(z0,zf, Nz+1)\n",
    "#     return x,y\n",
    "\n",
    "# xx,yy = domain(200,200,-8,8,-8,8)\n",
    "# x, y = np.meshgrid(xx,yy)\n",
    "# z = np.sin(np.sqrt(x*x + y*y))\n",
    "\n",
    "# fig = plt.figure(figsize=(15,15))\n",
    "# ax = plt.axes(projection='3d')\n",
    "# ax.scatter3D(x, y, z, c=z, cmap='Greens')\n",
    "\n",
    "# ax.view_init(-90, 90)\n",
    "\n",
    "# plt.show()"
   ]
  },
  {
   "cell_type": "code",
   "execution_count": 14,
   "metadata": {},
   "outputs": [
    {
     "name": "stdout",
     "output_type": "stream",
     "text": [
      "[[0 1 2]\n",
      " [3 4 5]\n",
      " [6 7 8]]\n",
      "3 6 2 1\n"
     ]
    }
   ],
   "source": [
    "# TEST CELL\n",
    "v = np.arange(0,9)\n",
    "v = np.reshape(v,(3,3))\n",
    "print(v)\n",
    "\n",
    "vU = np.roll(v,1,axis=0)\n",
    "vD = np.roll(v,-1,axis=0)\n",
    "vL = np.roll(v,1,axis=1)\n",
    "vR = np.roll(v,-1,axis=1)\n",
    "\n",
    "print(vD[0,0],vU[0,0],vL[0,0],vR[0,0])"
   ]
  }
 ],
 "metadata": {
  "kernelspec": {
   "display_name": "Python 3",
   "language": "python",
   "name": "python3"
  },
  "language_info": {
   "codemirror_mode": {
    "name": "ipython",
    "version": 3
   },
   "file_extension": ".py",
   "mimetype": "text/x-python",
   "name": "python",
   "nbconvert_exporter": "python",
   "pygments_lexer": "ipython3",
   "version": "3.8.3"
  }
 },
 "nbformat": 4,
 "nbformat_minor": 4
}
