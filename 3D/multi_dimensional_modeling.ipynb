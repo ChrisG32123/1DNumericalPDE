{
 "cells": [
  {
   "cell_type": "code",
   "execution_count": 1,
   "metadata": {},
   "outputs": [],
   "source": [
    "%matplotlib qt\n",
    "from mpl_toolkits import mplot3d\n",
    "import numpy as np\n",
    "import matplotlib.pyplot as plt\n",
    "import time\n",
    "\n",
    "import matplotlib.animation as animation\n",
    "import networkx as nx\n",
    "from matplotlib.animation import FuncAnimation, PillowWriter "
   ]
  },
  {
   "cell_type": "markdown",
   "metadata": {
    "tags": []
   },
   "source": [
    "# 2+1D Transport Equation"
   ]
  },
  {
   "cell_type": "code",
   "execution_count": 2,
   "metadata": {},
   "outputs": [],
   "source": [
    "# Numerical Parameters\n",
    "\n",
    "# Grid Points and Time Steps\n",
    "N = int(1e2+1) # +1 for Off-By-One on Periodic BC\n",
    "M = int(1e2+1)\n",
    "T = int(5e2+1)\n",
    "# Domain Size\n",
    "L = 10\n",
    "K = 10\n",
    "# Domain\n",
    "x = np.linspace(0, L, N)\n",
    "y = np.linspace(0, K, M)\n",
    "# Grid Size and Time Step Size\n",
    "dx = x[2] - x[1]\n",
    "dy = y[2] - y[1]\n",
    "dt = 1e-3\n",
    "\n",
    "lmbdx = dt/dx\n",
    "lmbdy = dt/dy\n",
    "\n",
    "# Coordinate Plane\n",
    "xx,yy = np.meshgrid(x,y)\n",
    "t = dt * T"
   ]
  },
  {
   "cell_type": "code",
   "execution_count": 3,
   "metadata": {},
   "outputs": [
    {
     "name": "stdout",
     "output_type": "stream",
     "text": [
      "0.5\n"
     ]
    }
   ],
   "source": [
    "# Memory Allocation\n",
    "u = np.zeros((T,M,N))\n",
    "\n",
    "# Inital Condition\n",
    "rho_0 = 1\n",
    "freq = 2*np.pi\n",
    "freq_x = 2*freq/L\n",
    "freq_y = 3*freq/K\n",
    "uIC = rho_0 + 2*np.sin(freq_x*xx)+np.sin(freq_y*yy)\n",
    "u[0] = np.copy(uIC)\n",
    "\n",
    "Fx = 30\n",
    "Fy = 20\n",
    "\n",
    "print(lmbdx*Fx+lmbdy*Fy)\n"
   ]
  },
  {
   "cell_type": "code",
   "execution_count": 4,
   "metadata": {},
   "outputs": [
    {
     "name": "stdout",
     "output_type": "stream",
     "text": [
      "0\n",
      "50\n",
      "100\n",
      "150\n",
      "200\n",
      "250\n",
      "300\n",
      "350\n",
      "400\n",
      "450\n",
      "Execution time: 9.536156415939331 seconds\n"
     ]
    }
   ],
   "source": [
    "# Solve\n",
    "st = time.time()\n",
    "for tt in range(0,T-1):\n",
    "    for jj in range(0,M):\n",
    "        for ii in range(0,N):\n",
    "            u[tt+1,jj,ii] = u[tt,jj,ii] - lmbdy*Fy*(u[tt,jj,ii]-u[tt,jj-1,ii]) - lmbdx*Fx*(u[tt,jj,ii]-u[tt,jj,ii-1])\n",
    "    if tt % ((T-1)/10) == 0:\n",
    "        print(tt)\n",
    "et = time.time()\n",
    "elapsed_time = et - st\n",
    "print('Execution time:', elapsed_time, 'seconds')"
   ]
  },
  {
   "cell_type": "code",
   "execution_count": 5,
   "metadata": {},
   "outputs": [],
   "source": [
    "#Plotting\n",
    "def plot(utt):\n",
    "    fig = plt.figure(figsize=(15,15))\n",
    "    ax = plt.axes(projection='3d')\n",
    "    # ax.contour3D(xx, yy, uIC, 50, cmap='binary')\n",
    "    # for elm in u:\n",
    "    #     ax.contour3D(xx, yy, elm, 500, cmap='binary')\n",
    "    ax.contour3D(xx,yy,utt,100)\n",
    "    ax.set_xlabel('x')\n",
    "    ax.set_ylabel('y')\n",
    "    ax.set_zlabel('z')\n",
    "    plt.show()"
   ]
  },
  {
   "cell_type": "code",
   "execution_count": 6,
   "metadata": {},
   "outputs": [],
   "source": [
    "#Animation\n",
    "def change_plot(frame_number,u, plot):\n",
    "   plot[0].remove()\n",
    "   plot[0] = ax.plot_surface(xx, yy, u[frame_number,:,:], cmap=\"viridis\")\n",
    "    \n",
    "fig = plt.figure()\n",
    "ax = fig.add_subplot(111, projection='3d')\n",
    "\n",
    "plot = [ax.plot_surface(xx, yy, u[0, :, :], color='0.75', rstride=10, cstride=10)]\n",
    "\n",
    "ani = animation.FuncAnimation(fig, change_plot, T, fargs=(u, plot), interval= 100, save_count=1000)\n",
    "# ani.save(filename=r\"C:\\Users\\Chris Gerlach\\OneDrive\\Desktop\\PDEmultidimension.gif\", writer='pillow',fps=30)\n",
    "\n",
    "plt.show()"
   ]
  },
  {
   "cell_type": "markdown",
   "metadata": {},
   "source": [
    "# 2+1D Heat Equation"
   ]
  },
  {
   "cell_type": "code",
   "execution_count": 7,
   "metadata": {},
   "outputs": [],
   "source": [
    "# Numerical Parameters\n",
    "\n",
    "# Grid Points and Time Steps\n",
    "N = int(5e2+1) # +1 for Off-By-One on Periodic BC\n",
    "M = int(5e2+1)\n",
    "T = int(1e2+1)\n",
    "# Domain Size\n",
    "L = 10\n",
    "K = 10\n",
    "# Domain\n",
    "x = np.linspace(0, L, N)\n",
    "y = np.linspace(0, K, M)\n",
    "# Grid Size and Time Step Size\n",
    "dx = x[2] - x[1]\n",
    "dy = y[2] - y[1]\n",
    "dt = 1e-3\n",
    "\n",
    "mux = dt/dx/dx\n",
    "muy = dt/dy/dy\n",
    "\n",
    "# Coordinate Plane\n",
    "xx,yy = np.meshgrid(x,y)\n",
    "t = dt * T"
   ]
  },
  {
   "cell_type": "code",
   "execution_count": 8,
   "metadata": {},
   "outputs": [
    {
     "name": "stdout",
     "output_type": "stream",
     "text": [
      "0.02\n"
     ]
    }
   ],
   "source": [
    "# Memory Allocation\n",
    "v = np.zeros((T,M,N))\n",
    "\n",
    "v[0] = np.exp(-(xx-L/2)**2-(yy-K/2)**2)\n",
    "\n",
    "Fx = 10\n",
    "Fy = 20\n",
    "\n",
    "print(dx*dy/4*(Fx*Fy))"
   ]
  },
  {
   "cell_type": "code",
   "execution_count": 9,
   "metadata": {},
   "outputs": [
    {
     "name": "stdout",
     "output_type": "stream",
     "text": [
      "0\n",
      "10\n",
      "20\n",
      "30\n",
      "40\n",
      "50\n",
      "60\n",
      "70\n",
      "80\n",
      "90\n",
      "Execution time: 75.02892851829529 seconds\n"
     ]
    }
   ],
   "source": [
    "# Solve\n",
    "st = time.time()\n",
    "for tt in range(0,T-1):\n",
    "\n",
    "    for jj in range(0,M):\n",
    "        for ii in range(0,N):\n",
    "            if ii == 0 or ii == N-1 or jj == 0 or jj == M-1:\n",
    "                v[tt+1,jj,ii] = 0\n",
    "            else:\n",
    "                v[tt+1,jj,ii] = v[tt,jj,ii] + muy*Fy*(v[tt,jj+1,ii]-2*v[tt,jj,ii]+v[tt,jj-1,ii]) + mux*Fx*(v[tt,jj,ii]-2*v[tt,jj,ii-1]+v[tt,jj,ii-1])\n",
    "           \n",
    "    if tt % ((T-1)/10) == 0:\n",
    "        print(tt)\n",
    "et = time.time()\n",
    "elapsed_time = et - st\n",
    "print('Execution time:', elapsed_time, 'seconds')"
   ]
  },
  {
   "cell_type": "code",
   "execution_count": 10,
   "metadata": {},
   "outputs": [
    {
     "ename": "AttributeError",
     "evalue": "'tuple' object has no attribute 'yy'",
     "output_type": "error",
     "traceback": [
      "\u001b[1;31m---------------------------------------------------------------------------\u001b[0m",
      "\u001b[1;31mAttributeError\u001b[0m                            Traceback (most recent call last)",
      "Input \u001b[1;32mIn [10]\u001b[0m, in \u001b[0;36m<cell line: 9>\u001b[1;34m()\u001b[0m\n\u001b[0;32m      6\u001b[0m fig \u001b[38;5;241m=\u001b[39m plt\u001b[38;5;241m.\u001b[39mfigure()\n\u001b[0;32m      7\u001b[0m ax \u001b[38;5;241m=\u001b[39m fig\u001b[38;5;241m.\u001b[39madd_subplot(\u001b[38;5;241m111\u001b[39m, projection\u001b[38;5;241m=\u001b[39m\u001b[38;5;124m'\u001b[39m\u001b[38;5;124m3d\u001b[39m\u001b[38;5;124m'\u001b[39m)\n\u001b[1;32m----> 9\u001b[0m \u001b[38;5;28mprint\u001b[39m(\u001b[43mxx\u001b[49m\u001b[38;5;241;43m.\u001b[39;49m\u001b[43mshape\u001b[49m\u001b[38;5;241;43m.\u001b[39;49m\u001b[43m \u001b[49m\u001b[43myy\u001b[49m\u001b[38;5;241m.\u001b[39mshape\u001b[38;5;241m.\u001b[39m v[\u001b[38;5;241m0\u001b[39m]\u001b[38;5;241m.\u001b[39mshape)\n\u001b[0;32m     11\u001b[0m plot \u001b[38;5;241m=\u001b[39m [ax\u001b[38;5;241m.\u001b[39mplot_surface(xx, yy, v[\u001b[38;5;241m0\u001b[39m, :, :], color\u001b[38;5;241m=\u001b[39m\u001b[38;5;124m'\u001b[39m\u001b[38;5;124m0.75\u001b[39m\u001b[38;5;124m'\u001b[39m, rstride\u001b[38;5;241m=\u001b[39m\u001b[38;5;241m10\u001b[39m, cstride\u001b[38;5;241m=\u001b[39m\u001b[38;5;241m10\u001b[39m)]\n\u001b[0;32m     12\u001b[0m ax\u001b[38;5;241m.\u001b[39mset_zlim(\u001b[38;5;241m0\u001b[39m,\u001b[38;5;241m1.5\u001b[39m)\n",
      "\u001b[1;31mAttributeError\u001b[0m: 'tuple' object has no attribute 'yy'"
     ]
    },
    {
     "name": "stderr",
     "output_type": "stream",
     "text": [
      "Traceback (most recent call last):\n",
      "  File \"C:\\Users\\chris\\anaconda3\\lib\\site-packages\\matplotlib\\cbook\\__init__.py\", line 287, in process\n",
      "    func(*args, **kwargs)\n",
      "  File \"C:\\Users\\chris\\anaconda3\\lib\\site-packages\\matplotlib\\animation.py\", line 909, in _start\n",
      "    self._init_draw()\n",
      "  File \"C:\\Users\\chris\\anaconda3\\lib\\site-packages\\matplotlib\\animation.py\", line 1698, in _init_draw\n",
      "    self._draw_frame(frame_data)\n",
      "  File \"C:\\Users\\chris\\anaconda3\\lib\\site-packages\\matplotlib\\animation.py\", line 1720, in _draw_frame\n",
      "    self._drawn_artists = self._func(framedata, *self._args)\n",
      "  File \"C:\\Users\\chris\\AppData\\Local\\Temp\\ipykernel_3504\\1623856559.py\", line 4, in change_plot\n",
      "    plot[0] = ax.plot_surface(xx, yy, u[frame_number,:,:], cmap=\"viridis\")\n",
      "  File \"C:\\Users\\chris\\anaconda3\\lib\\site-packages\\matplotlib\\_api\\deprecation.py\", line 412, in wrapper\n",
      "    return func(*inner_args, **inner_kwargs)\n",
      "  File \"C:\\Users\\chris\\anaconda3\\lib\\site-packages\\mpl_toolkits\\mplot3d\\axes3d.py\", line 1584, in plot_surface\n",
      "    X, Y, Z = np.broadcast_arrays(X, Y, Z)\n",
      "  File \"<__array_function__ internals>\", line 5, in broadcast_arrays\n",
      "  File \"C:\\Users\\chris\\anaconda3\\lib\\site-packages\\numpy\\lib\\stride_tricks.py\", line 538, in broadcast_arrays\n",
      "    shape = _broadcast_shape(*args)\n",
      "  File \"C:\\Users\\chris\\anaconda3\\lib\\site-packages\\numpy\\lib\\stride_tricks.py\", line 420, in _broadcast_shape\n",
      "    b = np.broadcast(*args[:32])\n",
      "ValueError: shape mismatch: objects cannot be broadcast to a single shape\n"
     ]
    }
   ],
   "source": [
    "#Animation\n",
    "def change_plot(frame_number,v, plot):\n",
    "   plot[0].remove()\n",
    "   plot[0] = ax.plot_surface(xx, yy, v[frame_number,:,:], cmap=\"viridis\")\n",
    "    \n",
    "fig = plt.figure()\n",
    "ax = fig.add_subplot(111, projection='3d')\n",
    "\n",
    "print(xx.shape. yy.shape. v[0].shape)\n",
    "\n",
    "plot = [ax.plot_surface(xx, yy, v[0, :, :], color='0.75', rstride=10, cstride=10)]\n",
    "ax.set_zlim(0,1.5)\n",
    "\n",
    "ani = animation.FuncAnimation(fig, change_plot, T, fargs=(v, plot), interval= 100, save_count=1000)\n",
    "# ani.save(filename=r\"C:\\Users\\Chris Gerlach\\OneDrive\\Desktop\\PDEmultidimension.gif\", writer='pillow',fps=30)\n",
    "\n",
    "plt.show()"
   ]
  },
  {
   "cell_type": "code",
   "execution_count": null,
   "metadata": {},
   "outputs": [],
   "source": []
  }
 ],
 "metadata": {
  "kernelspec": {
   "display_name": "Python 3 (ipykernel)",
   "language": "python",
   "name": "python3"
  },
  "language_info": {
   "codemirror_mode": {
    "name": "ipython",
    "version": 3
   },
   "file_extension": ".py",
   "mimetype": "text/x-python",
   "name": "python",
   "nbconvert_exporter": "python",
   "pygments_lexer": "ipython3",
   "version": "3.9.12"
  }
 },
 "nbformat": 4,
 "nbformat_minor": 4
}
