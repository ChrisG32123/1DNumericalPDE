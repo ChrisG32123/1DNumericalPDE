{
 "cells": [
  {
   "cell_type": "code",
   "execution_count": 2,
   "metadata": {},
   "outputs": [],
   "source": [
    "%matplotlib qt\n",
    "from mpl_toolkits import mplot3d\n",
    "import numpy as np\n",
    "import matplotlib.pyplot as plt\n",
    "import time\n",
    "\n",
    "import matplotlib.animation as animation\n",
    "import networkx as nx\n",
    "from matplotlib.animation import FuncAnimation, PillowWriter"
   ]
  },
  {
   "cell_type": "markdown",
   "metadata": {
    "tags": []
   },
   "source": [
    "# 2+1D Transport Equation"
   ]
  },
  {
   "cell_type": "code",
   "execution_count": 8,
   "metadata": {},
   "outputs": [],
   "source": [
    "# Numerical Parameters\n",
    "\n",
    "# Grid Points and Time Steps\n",
    "N = int(1e2+1) # +1 for Off-By-One on Periodic BC\n",
    "M = int(1e2+1)\n",
    "T = int(5e2+1)\n",
    "# Domain Size\n",
    "L = 10\n",
    "K = 10\n",
    "# Domain\n",
    "x = np.linspace(0, L, N)\n",
    "y = np.linspace(0, K, M)\n",
    "# Grid Size and Time Step Size\n",
    "dx = x[2] - x[1]\n",
    "dy = y[2] - y[1]\n",
    "dt = 1e-3\n",
    "\n",
    "lmbdx = dt/dx\n",
    "lmbdy = dt/dy\n",
    "\n",
    "# Coordinate Plane\n",
    "xx,yy = np.meshgrid(x,y)\n",
    "t = dt * T"
   ]
  },
  {
   "cell_type": "code",
   "execution_count": 9,
   "metadata": {},
   "outputs": [
    {
     "name": "stdout",
     "output_type": "stream",
     "text": [
      "0.5\n"
     ]
    }
   ],
   "source": [
    "# Memory Allocation\n",
    "u = np.zeros((T,M,N))\n",
    "\n",
    "# Inital Condition\n",
    "rho_0 = 1\n",
    "freq = 2*np.pi\n",
    "freq_x = 2*freq/L\n",
    "freq_y = 3*freq/K\n",
    "uIC = rho_0 + 2*np.sin(freq_x*xx)+np.sin(freq_y*yy)\n",
    "u[0] = np.copy(uIC)\n",
    "\n",
    "Fx = 30\n",
    "Fy = 20\n",
    "\n",
    "print(lmbdx*Fx+lmbdy*Fy)"
   ]
  },
  {
   "cell_type": "code",
   "execution_count": 4,
   "metadata": {},
   "outputs": [],
   "source": [
    "# # Solve\n",
    "# st = time.time()\n",
    "# for tt in range(0,T-1):\n",
    "#     for jj in range(0,M):\n",
    "#         for ii in range(0,N):\n",
    "#             u[tt+1,jj,ii] = u[tt,jj,ii] - lmbdy*Fy*(u[tt,jj,ii]-u[tt,jj-1,ii]) - lmbdx*Fx*(u[tt,jj,ii]-u[tt,jj,ii-1])\n",
    "#     if tt % ((T-1)/10) == 0:\n",
    "#         print(tt)\n",
    "# et = time.time()\n",
    "# elapsed_time = et - st\n",
    "# print('Execution time:', elapsed_time, 'seconds')"
   ]
  },
  {
   "cell_type": "markdown",
   "metadata": {
    "tags": []
   },
   "source": [
    "# Take 2 Cause I'm Bored On  A Plane\n",
    "# Step 1: Vectorization"
   ]
  },
  {
   "cell_type": "code",
   "execution_count": 3,
   "metadata": {},
   "outputs": [],
   "source": [
    "def left(array):\n",
    "    return np.roll(array, -1, axis = -1)\n",
    "    \n",
    "def right(array):\n",
    "    return np.roll(array, 1, axis = -1)\n",
    "    \n",
    "def up(array):\n",
    "    return np.roll(array, -1, axis = -2)\n",
    "    \n",
    "def down(array):\n",
    "    return np.roll(array, 1, axis = -2)\n",
    "    \n",
    "def yFlux(array):\n",
    "    return Fy*(array-down(array))\n",
    "\n",
    "def xFlux(array):\n",
    "    return Fx*(array-left(array))\n",
    "\n",
    "def d2dx2(array):\n",
    "    return right(array) - 2*array + left(array)\n",
    "\n",
    "def d2dy2(array):\n",
    "    return down(array) - 2*array + up(array)"
   ]
  },
  {
   "cell_type": "code",
   "execution_count": 11,
   "metadata": {
    "tags": []
   },
   "outputs": [
    {
     "name": "stdout",
     "output_type": "stream",
     "text": [
      "0\n",
      "50\n",
      "100\n",
      "150\n",
      "200\n",
      "250\n",
      "300\n",
      "350\n",
      "400\n",
      "450\n",
      "Execution time: 0.06268811225891113 seconds\n"
     ]
    }
   ],
   "source": [
    "# Solve\n",
    "st = time.time()\n",
    "for tt in range(0,T-1):\n",
    "    u[tt+1] = u[tt] - lmbdy*yFlux(u[tt]) - lmbdx*xFlux(u[tt])\n",
    "    if tt % ((T-1)/10) == 0:\n",
    "        print(tt)\n",
    "\n",
    "et = time.time()\n",
    "elapsed_time = et - st\n",
    "print('Execution time:', elapsed_time, 'seconds')"
   ]
  },
  {
   "cell_type": "code",
   "execution_count": 12,
   "metadata": {
    "tags": []
   },
   "outputs": [],
   "source": [
    "#Plotting\n",
    "def plot(utt):\n",
    "    fig = plt.figure(figsize=(15,15))\n",
    "    ax = plt.axes(projection='3d')\n",
    "    # ax.contour3D(xx, yy, uIC, 50, cmap='binary')\n",
    "    # for elm in u:\n",
    "    #     ax.contour3D(xx, yy, elm, 500, cmap='binary')\n",
    "    ax.contour3D(xx,yy,utt,100)\n",
    "    ax.set_xlabel('x')\n",
    "    ax.set_ylabel('y')\n",
    "    ax.set_zlabel('z')\n",
    "    plt.show()"
   ]
  },
  {
   "cell_type": "code",
   "execution_count": 6,
   "metadata": {
    "tags": []
   },
   "outputs": [],
   "source": [
    "# #Animation\n",
    "# def change_plot(frame_number,u, plot):\n",
    "#    plot[0].remove()\n",
    "#    plot[0] = ax.plot_surface(xx, yy, u[frame_number,:,:], cmap=\"viridis\")\n",
    "    \n",
    "# fig = plt.figure()\n",
    "# ax = fig.add_subplot(111, projection='3d')\n",
    "\n",
    "# plot = [ax.plot_surface(xx, yy, u[0, :, :], color='0.75', rstride=10, cstride=10)]\n",
    "\n",
    "# ani = animation.FuncAnimation(fig, change_plot, T, fargs=(u, plot), interval= 1)\n",
    "# # ani.save(filename=r\"C:\\Users\\Chris Gerlach\\OneDrive\\Desktop\\PDEmultidimension.gif\", writer='pillow',fps=30)\n",
    "\n",
    "# plt.show()"
   ]
  },
  {
   "cell_type": "markdown",
   "metadata": {
    "tags": []
   },
   "source": [
    "# 2+1D Heat Equation"
   ]
  },
  {
   "cell_type": "code",
   "execution_count": null,
   "metadata": {},
   "outputs": [],
   "source": [
    "# Numerical Parameters\n",
    "\n",
    "# Grid Points and Time Steps\n",
    "N = int(1e2+1) # +1 for Off-By-One on Periodic BC\n",
    "M = int(1e2+1)\n",
    "T = int(5e4+1)\n",
    "# Domain Size\n",
    "L = 10\n",
    "K = 10\n",
    "# Domain\n",
    "x = np.linspace(0, L, N)\n",
    "y = np.linspace(0, K, M)\n",
    "# Grid Size and Time Step Size\n",
    "dx = x[2] - x[1]\n",
    "dy = y[2] - y[1]\n",
    "dt = 1e-4\n",
    "\n",
    "mux = dt/(dx*dx)\n",
    "muy = dt/(dy*dy)\n",
    "\n",
    "# Coordinate Plane\n",
    "xx,yy = np.meshgrid(x,y)\n",
    "t = dt * T"
   ]
  },
  {
   "cell_type": "code",
   "execution_count": null,
   "metadata": {},
   "outputs": [],
   "source": [
    "# Memory Allocation\n",
    "v = np.zeros((T,M,N))\n",
    "\n",
    "v[0] = np.exp(-(xx-L/2)**2-(yy-K/2)**2)\n",
    "\n",
    "Fx = 10\n",
    "Fy = 20\n",
    "\n",
    "print(dx*dy/(4*(Fx*Fy)))"
   ]
  },
  {
   "cell_type": "code",
   "execution_count": null,
   "metadata": {},
   "outputs": [],
   "source": [
    "# Plot Initial Condition\n",
    "\n",
    "# fig = plt.figure()\n",
    "# ax = fig.add_subplot(111, projection='3d')\n",
    "# plot = [ax.plot_surface(xx, yy, v[0], color='0.75', rstride=10, cstride=10)]\n",
    "# plt.show()"
   ]
  },
  {
   "cell_type": "code",
   "execution_count": null,
   "metadata": {},
   "outputs": [],
   "source": [
    "# Solve\n",
    "st = time.time()\n",
    "for tt in range(0,T-1):\n",
    "    v[tt+1] = v[tt] + muy*Fy*d2dy2(v[tt]) + mux*Fx*d2dx2(v[tt])\n",
    "           \n",
    "    if tt % ((T-1)/10) == 0:\n",
    "        print(tt)\n",
    "et = time.time()\n",
    "elapsed_time = et - st\n",
    "print('Execution time:', elapsed_time, 'seconds')"
   ]
  },
  {
   "cell_type": "code",
   "execution_count": null,
   "metadata": {},
   "outputs": [],
   "source": [
    "#Animation\n",
    "def change_plot(frame_number,v, plot):\n",
    "   plot[0].remove()\n",
    "   plot[0] = ax.plot_surface(xx, yy, v[frame_number,:,:], cmap=\"viridis\")\n",
    "    \n",
    "fig = plt.figure()\n",
    "ax = fig.add_subplot(111, projection='3d')\n",
    "\n",
    "plot = [ax.plot_surface(xx, yy, v[0, :, :], color='0.75', rstride=10, cstride=10)]\n",
    "ax.set_zlim(0,1.5)\n",
    "\n",
    "ani = animation.FuncAnimation(fig, change_plot, T, fargs=(v, plot), interval= 100, save_count=1000)\n",
    "\n",
    "# plt.show()"
   ]
  },
  {
   "cell_type": "code",
   "execution_count": null,
   "metadata": {},
   "outputs": [],
   "source": [
    "ani.save(filename=r\"C:\\Users\\chris\\OneDrive\\Desktop\\PDEmultidimension_heat.gif\", writer='pillow',fps=30)"
   ]
  },
  {
   "cell_type": "markdown",
   "metadata": {},
   "source": [
    "# 2+1D Advection/Diffusion Equation"
   ]
  },
  {
   "cell_type": "code",
   "execution_count": 3,
   "metadata": {},
   "outputs": [],
   "source": [
    "# Numerical Parameters\n",
    "\n",
    "# Grid Points and Time Steps\n",
    "N = int(1e2+1) # +1 for Off-By-One on Periodic BC\n",
    "M = int(1e2+1)\n",
    "T = int(1e4+1)\n",
    "# Domain Size\n",
    "L = 10\n",
    "K = 10\n",
    "# Domain\n",
    "x = np.linspace(0, L, N)\n",
    "y = np.linspace(0, K, M)\n",
    "# Grid Size and Time Step Size\n",
    "dx = x[2] - x[1]\n",
    "dy = y[2] - y[1]\n",
    "dt = 1e-4\n",
    "\n",
    "lmbdx = dt/dx\n",
    "lmbdy = dt/dy\n",
    "\n",
    "mux = dt/(dx*dx)\n",
    "muy = dt/(dy*dy)\n",
    "\n",
    "# Coordinate Plane\n",
    "xx,yy = np.meshgrid(x,y)\n",
    "t = dt * T"
   ]
  },
  {
   "cell_type": "code",
   "execution_count": 4,
   "metadata": {},
   "outputs": [],
   "source": [
    "def left(array):\n",
    "    return np.roll(array, -1, axis = -1)\n",
    "    \n",
    "def right(array):\n",
    "    return np.roll(array, 1, axis = -1)\n",
    "    \n",
    "def up(array):\n",
    "    return np.roll(array, -1, axis = -2)\n",
    "    \n",
    "def down(array):\n",
    "    return np.roll(array, 1, axis = -2)\n",
    "    \n",
    "def ddx(array, dx):\n",
    "    return (array-down(array))/dx\n",
    "\n",
    "def ddy(array, dy):\n",
    "    return Fx*(array-left(array))/dy\n",
    "\n",
    "def d2dx2(array, dx):\n",
    "    return (right(array) - 2*array + left(array))/(dx**2)\n",
    "\n",
    "def d2dy2(array, dy):\n",
    "    return (down(array) - 2*array + up(array))/(dy**2)"
   ]
  },
  {
   "cell_type": "code",
   "execution_count": 5,
   "metadata": {},
   "outputs": [
    {
     "name": "stdout",
     "output_type": "stream",
     "text": [
      "0.005\n"
     ]
    }
   ],
   "source": [
    "# Memory Allocation\n",
    "w = np.zeros((T,M,N))\n",
    "\n",
    "# Inital Condition\n",
    "rho_0 = 1\n",
    "freq = 2*np.pi\n",
    "freq_x = 2*freq/L\n",
    "freq_y = 3*freq/K\n",
    "wIC = rho_0 + 2*np.sin(freq_x*xx)+np.sin(freq_y*yy)\n",
    "w[0] = np.copy(wIC)\n",
    "\n",
    "Fx = 3\n",
    "Fy = 2\n",
    "\n",
    "Dx = 1\n",
    "Dy = 2\n",
    "\n",
    "print(lmbdx*Fx+lmbdy*Fy)"
   ]
  },
  {
   "cell_type": "code",
   "execution_count": 6,
   "metadata": {},
   "outputs": [
    {
     "name": "stdout",
     "output_type": "stream",
     "text": [
      "0\n",
      "1000\n",
      "2000\n",
      "3000\n",
      "4000\n",
      "5000\n",
      "6000\n",
      "7000\n",
      "8000\n",
      "9000\n",
      "Execution time: 5.2413976192474365 seconds\n"
     ]
    }
   ],
   "source": [
    "# Solve\n",
    "st = time.time()\n",
    "for tt in range(0,T-1):\n",
    "    w[tt+1] = w[tt] + dt*(Dy*d2dy2(w[tt], dy) + Fy*ddy(w[tt], dy) + Dx*d2dx2(w[tt], dx) + Fx*ddx(w[tt], dx))\n",
    "           \n",
    "    if tt % ((T-1)/10) == 0:\n",
    "        print(tt)\n",
    "et = time.time()\n",
    "elapsed_time = et - st\n",
    "print('Execution time:', elapsed_time, 'seconds')"
   ]
  },
  {
   "cell_type": "code",
   "execution_count": 7,
   "metadata": {},
   "outputs": [],
   "source": [
    "#Animation\n",
    "def change_plot(frame_number,data, plot):\n",
    "   plot[0].remove()\n",
    "   plot[0] = ax.plot_surface(xx, yy, data[frame_number,:,:], cmap=\"viridis\")\n",
    "    \n",
    "fig = plt.figure()\n",
    "ax = fig.add_subplot(111, projection='3d')\n",
    "\n",
    "plot = [ax.plot_surface(xx, yy, w[0, :, :], color='0.75', rstride=10, cstride=10)]\n",
    "\n",
    "ani = animation.FuncAnimation(fig, change_plot, T, fargs=(w, plot), interval= 10, save_count=10)\n",
    "\n",
    "# plt.show()"
   ]
  },
  {
   "cell_type": "code",
   "execution_count": null,
   "metadata": {},
   "outputs": [],
   "source": [
    "ani.save(filename=r\"C:\\Users\\chris\\OneDrive\\Desktop\\PDEmultidimension_advection_diffusion.gif\", writer='pillow',fps=30)"
   ]
  }
 ],
 "metadata": {
  "kernelspec": {
   "display_name": "Python 3 (ipykernel)",
   "language": "python",
   "name": "python3"
  },
  "language_info": {
   "codemirror_mode": {
    "name": "ipython",
    "version": 3
   },
   "file_extension": ".py",
   "mimetype": "text/x-python",
   "name": "python",
   "nbconvert_exporter": "python",
   "pygments_lexer": "ipython3",
   "version": "3.9.12"
  }
 },
 "nbformat": 4,
 "nbformat_minor": 4
}
