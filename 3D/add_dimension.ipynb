{
 "cells": [
  {
   "cell_type": "code",
   "execution_count": 1,
   "metadata": {},
   "outputs": [],
   "source": [
    "from mpl_toolkits import mplot3d\n",
    "import numpy as np\n",
    "import matplotlib.pyplot as plt"
   ]
  },
  {
   "cell_type": "code",
   "execution_count": 2,
   "metadata": {},
   "outputs": [],
   "source": [
    "# Numerical Parameters\n",
    "\n",
    "# Grid Points and Time Steps\n",
    "N = int(2e2+1) # +1 for Off-By-One on Periodic BC\n",
    "M = int(2e2+1)\n",
    "T = int(1e2+1)\n",
    "# Domain Size\n",
    "L = 10\n",
    "K = 10\n",
    "# Domain\n",
    "x = np.linspace(0, L, N)\n",
    "y = np.linspace(0, K, M)\n",
    "# Grid Size and Time Step Size\n",
    "dx = x[2] - x[1]\n",
    "dy = y[2] - y[1]\n",
    "dt = 1e-3\n",
    "\n",
    "t = dt * T\n",
    "tot_snaps = 10\n",
    "tot_snaps = int(T/tot_snaps) # TODO: Knob\n",
    "snap = 0"
   ]
  },
  {
   "cell_type": "code",
   "execution_count": 3,
   "metadata": {},
   "outputs": [],
   "source": [
    "# Mathematical Parameters\n",
    "lambda_x = dt / dx\n",
    "lambda_y = dt / dy\n",
    "\n",
    "rho_0 = 3 / (4 * np.pi)\n",
    "# Gamma_0 = input(\"Enter Gamma_0: \")\n",
    "# kappa_0 = input(\"Enter kappa_0: \")\n",
    "beta = 1\n",
    "correlation = [False, True]"
   ]
  },
  {
   "cell_type": "code",
   "execution_count": 4,
   "metadata": {},
   "outputs": [],
   "source": [
    "# Correlation Parameters FIX FOR DOMAIN\n",
    "k_fft_norm = 2 * np.pi / (N * dx)\n",
    "k = k_fft_norm * np.linspace(-N / 2, N / 2 - 1, N)  # Fourier Domain\n",
    "x3 = np.linspace(-L, 2 * L, 3 * N - 2)  # Correlation Domain"
   ]
  },
  {
   "cell_type": "code",
   "execution_count": 5,
   "metadata": {},
   "outputs": [],
   "source": [
    "# Initial Conditions\n",
    "disp_freq = 3 * 2 * np.pi / L\n",
    "rho_IC = rho_0 * np.ones(N) + .1 * np.sin(disp_freq * x)\n",
    "v_IC = np.ones(N)\n",
    "v_IC[:int(N/2)] = -1"
   ]
  },
  {
   "cell_type": "code",
   "execution_count": 6,
   "metadata": {},
   "outputs": [],
   "source": [
    "# Memory Allocation\n",
    "def allocate_memory(u_IC):\n",
    "    tot_u = np.zeros((T,N))\n",
    "    tot_uc = np.zeros((T,N))\n",
    "    u = np.copy(u_IC)\n",
    "    uc = np.copy(u_IC)\n",
    "    tot_u[0] = np.copy(u_IC)\n",
    "    tot_uc[0] = np.copy(u_IC)\n",
    "    return u, uc, tot_u\n",
    "\n",
    "rho, rhoc, tot_rho = allocate_memory(rho_IC)\n",
    "v, vc, tot_v = allocate_memory(v_IC)\n",
    "\n",
    "sys = [rho,v]\n",
    "sysc = [rhoc, vc]"
   ]
  },
  {
   "cell_type": "code",
   "execution_count": 7,
   "metadata": {},
   "outputs": [],
   "source": [
    "# def update(u):\n",
    "#     uR = np.copy(u)\n",
    "#     uL = np.roll(u,1)\n",
    "#     return uL, uR\n",
    "\n",
    "def den_flux(den,vel): return den*vel\n",
    "\n",
    "def vel_flux(den,vel): return .5*vel*vel+np.log(den)\n",
    "\n",
    "def godunov(u, f):\n",
    "    godunov_flux = np.zeros(N)\n",
    "    for ii in range(N):\n",
    "        if u[ii-1] > u[ii]:\n",
    "            godunov_flux[ii] = np.maximum(f[ii-1], f[ii])\n",
    "        elif u[ii-1] < u[ii]:\n",
    "            godunov_flux[ii] = np.minimum(f[ii-1], f[ii])\n",
    "        else:\n",
    "            godunov_flux[ii] = 0.0  # TODO: flux == 0 for constanst initial condition\n",
    "    return godunov_flux"
   ]
  },
  {
   "cell_type": "code",
   "execution_count": 8,
   "metadata": {},
   "outputs": [],
   "source": [
    "def plot(tot_u):\n",
    "    for ii in range(0, T, tot_snaps):\n",
    "        plot = plt.plot(x, tot_u[ii])\n",
    "    plt.show(block=False)"
   ]
  },
  {
   "cell_type": "code",
   "execution_count": 9,
   "metadata": {},
   "outputs": [
    {
     "name": "stderr",
     "output_type": "stream",
     "text": [
      "<ipython-input-7-8e5edb5dd247>:8: RuntimeWarning: invalid value encountered in log\n",
      "  def vel_flux(den,vel): return .5*vel*vel+np.log(den)\n",
      "<ipython-input-7-8e5edb5dd247>:6: RuntimeWarning: overflow encountered in multiply\n",
      "  def den_flux(den,vel): return den*vel\n",
      "<ipython-input-7-8e5edb5dd247>:8: RuntimeWarning: overflow encountered in multiply\n",
      "  def vel_flux(den,vel): return .5*vel*vel+np.log(den)\n"
     ]
    }
   ],
   "source": [
    "# Iterate Solution\n",
    "for tt in range(T):\n",
    "    # Find Fluxes\n",
    "    rho_flux = den_flux(rho,v)\n",
    "    v_flux = vel_flux(rho,v)\n",
    "#     rho_flux = godunov(rho, rho_flux)\n",
    "#     v_flux = godunov(v, v_flux)\n",
    "\n",
    "    # print(rho_flux-np.roll(rho_flux,1))\n",
    "    # Solve\n",
    "    rho = rho-lambda_x*(rho_flux-np.roll(rho_flux,1))\n",
    "    v = v-lambda_x*(v_flux-np.roll(v_flux,1))\n",
    "    \n",
    "    # Save Values\n",
    "    tot_rho[tt] = np.copy(rho)\n",
    "    \n",
    "plt.show(block=False)"
   ]
  },
  {
   "cell_type": "code",
   "execution_count": 10,
   "metadata": {},
   "outputs": [
    {
     "data": {
      "image/png": "[encoded data removed]",
      "text/plain": [
       "<Figure size 432x288 with 1 Axes>"
      ]
     },
     "metadata": {
      "needs_background": "light"
     },
     "output_type": "display_data"
    }
   ],
   "source": [
    "plt.figure()\n",
    "plot(tot_rho)"
   ]
  },
  {
   "cell_type": "code",
   "execution_count": null,
   "metadata": {},
   "outputs": [],
   "source": []
  }
 ],
 "metadata": {
  "kernelspec": {
   "display_name": "Python 3 (ipykernel)",
   "language": "python",
   "name": "python3"
  },
  "language_info": {
   "codemirror_mode": {
    "name": "ipython",
    "version": 3
   },
   "file_extension": ".py",
   "mimetype": "text/x-python",
   "name": "python",
   "nbconvert_exporter": "python",
   "pygments_lexer": "ipython3",
   "version": "3.9.12"
  }
 },
 "nbformat": 4,
 "nbformat_minor": 4
}
