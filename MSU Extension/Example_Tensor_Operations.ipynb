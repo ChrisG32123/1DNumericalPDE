{
 "cells": [
  {
   "cell_type": "code",
   "execution_count": 1,
   "id": "f452b2c1-08d7-48bf-9fed-e155f4f0997c",
   "metadata": {},
   "outputs": [
    {
     "name": "stdout",
     "output_type": "stream",
     "text": [
      "Tensor a:  (2, 3, 4) \n",
      " [[[ 0  1  2  3]\n",
      "  [ 4  5  6  7]\n",
      "  [ 8  9 10 11]]\n",
      "\n",
      " [[12 13 14 15]\n",
      "  [16 17 18 19]\n",
      "  [20 21 22 23]]]\n",
      "Vector b0: (2,) \n",
      " [1. 1.]\n",
      "Vector b1: (3,) \n",
      " [1. 1. 1.]\n",
      "Vector b2: (4,) \n",
      " [1. 1. 1. 1.]\n"
     ]
    }
   ],
   "source": [
    "import numpy as np\n",
    "import pandas as pd\n",
    "\n",
    "### Inner Products\n",
    "\n",
    "a = np.arange(24).reshape(2,3,4)\n",
    "print(\"Tensor a: \", a.shape, \"\\n\", a)\n",
    "\n",
    "b0 = np.ones(2)\n",
    "b1 = np.ones(3)\n",
    "b2 = np.ones(4)\n",
    "\n",
    "print(\"Vector b0:\", b0.shape, \"\\n\", b0)\n",
    "print(\"Vector b1:\", b1.shape, \"\\n\", b1)\n",
    "print(\"Vector b2:\", b2.shape, \"\\n\", b2)"
   ]
  },
  {
   "cell_type": "code",
   "execution_count": 2,
   "id": "a22927ac-d52c-4ddd-92b8-1f4742edfa21",
   "metadata": {},
   "outputs": [
    {
     "name": "stdout",
     "output_type": "stream",
     "text": [
      "Dot Product Along Axis 0: (3, 4) \n",
      " [[12. 14. 16. 18.]\n",
      " [20. 22. 24. 26.]\n",
      " [28. 30. 32. 34.]]\n",
      "Dot Product Along Axis 1: (2, 4) \n",
      " [[12. 15. 18. 21.]\n",
      " [48. 51. 54. 57.]]\n",
      "Dot Product Along Axis 2: (2, 3) \n",
      " [[ 6. 22. 38.]\n",
      " [54. 70. 86.]]\n"
     ]
    }
   ],
   "source": [
    "dot0 = np.tensordot(a, b0,axes=([0],[0]))\n",
    "dot1 = np.tensordot(a, b1,axes=([1],[0]))\n",
    "dot2 = np.tensordot(a, b2,axes=([2],[0]))\n",
    "alt_dot2 = np.dot(a,b2)\n",
    "\n",
    "print(\"Dot Product Along Axis 0:\", dot0.shape, \"\\n\", dot0)\n",
    "print(\"Dot Product Along Axis 1:\", dot1.shape, \"\\n\", dot1)\n",
    "print(\"Dot Product Along Axis 2:\", dot2.shape, \"\\n\", dot2)"
   ]
  },
  {
   "cell_type": "code",
   "execution_count": 3,
   "id": "a20170b1-a752-4dd0-aec0-4a158b162dc1",
   "metadata": {},
   "outputs": [
    {
     "name": "stdout",
     "output_type": "stream",
     "text": [
      "Dot Product Along Axes 0 and 1: (4,) \n",
      " [60. 66. 72. 78.]\n",
      "Dot Product Along Axes 0 and 2: (3,) \n",
      " [ 60.  92. 124.]\n",
      "Dot Product Along Axes 1 and 2: (2,) \n",
      " [ 66. 210.]\n",
      "Dot Product Along Axes 1 and 0: (2,) \n",
      " [ 66. 210.]\n"
     ]
    }
   ],
   "source": [
    "dot01 = np.tensordot(dot0, b1, axes=([0],[0]))\n",
    "dot02 = np.tensordot(dot0, b2, axes=([1],[0]))\n",
    "dot12 = np.tensordot(dot1, b2, axes=([1],[0]))\n",
    "dot21 = np.tensordot(dot2, b1, axes=([1],[0]))\n",
    "\n",
    "print(\"Dot Product Along Axes 0 and 1:\", dot01.shape, \"\\n\", dot01)\n",
    "print(\"Dot Product Along Axes 0 and 2:\", dot02.shape, \"\\n\", dot02)\n",
    "print(\"Dot Product Along Axes 1 and 2:\", dot12.shape, \"\\n\", dot12)\n",
    "print(\"Dot Product Along Axes 1 and 0:\", dot21.shape, \"\\n\", dot21)"
   ]
  },
  {
   "cell_type": "code",
   "execution_count": 4,
   "id": "fb687a7b-5bdc-4d44-9858-8efceb2bec04",
   "metadata": {},
   "outputs": [
    {
     "name": "stdout",
     "output_type": "stream",
     "text": [
      "(3, 2, 4)\n",
      "[[[ 0  1  2  3]\n",
      "  [12 13 14 15]]\n",
      "\n",
      " [[ 4  5  6  7]\n",
      "  [16 17 18 19]]\n",
      "\n",
      " [[ 8  9 10 11]\n",
      "  [20 21 22 23]]]\n"
     ]
    }
   ],
   "source": [
    "a_permute = np.transpose(a, (1, 0, 2))\n",
    "\n",
    "print(a_permute.shape)\n",
    "print(a_permute)"
   ]
  },
  {
   "cell_type": "code",
   "execution_count": 14,
   "id": "675272c0-0367-4e3f-ad4a-2d05fb877ae7",
   "metadata": {},
   "outputs": [
    {
     "name": "stdout",
     "output_type": "stream",
     "text": [
      "Tensor a:  (2, 3, 4) \n",
      " [[[ 0  1  2  3]\n",
      "  [ 4  5  6  7]\n",
      "  [ 8  9 10 11]]\n",
      "\n",
      " [[12 13 14 15]\n",
      "  [16 17 18 19]\n",
      "  [20 21 22 23]]]\n",
      "Matrix b: (4, 3) \n",
      " [[ 0  1  2]\n",
      " [ 3  4  5]\n",
      " [ 6  7  8]\n",
      " [ 9 10 11]]\n"
     ]
    }
   ],
   "source": [
    "a = np.arange(24).reshape(2,3,4)\n",
    "print(\"Tensor a: \", a.shape, \"\\n\", a)\n",
    "\n",
    "b = np.arange(12).reshape(4,3)\n",
    "print(\"Matrix b:\", b.shape, \"\\n\", b)"
   ]
  },
  {
   "cell_type": "code",
   "execution_count": 6,
   "id": "2c74ba45-a8d9-4b6f-9372-d0b4304002e4",
   "metadata": {},
   "outputs": [
    {
     "name": "stdout",
     "output_type": "stream",
     "text": [
      "Dot Product Along Axis 1 of A & Axis 1 of B: (2, 4, 4) \n",
      " [[[ 20  56  92 128]\n",
      "  [ 23  68 113 158]\n",
      "  [ 26  80 134 188]\n",
      "  [ 29  92 155 218]]\n",
      "\n",
      " [[ 56 200 344 488]\n",
      "  [ 59 212 365 518]\n",
      "  [ 62 224 386 548]\n",
      "  [ 65 236 407 578]]]\n",
      "Dot Product Along Axis 2 of A & Axis 0 of B: (2, 3, 3) \n",
      " [[[ 42  48  54]\n",
      "  [114 136 158]\n",
      "  [186 224 262]]\n",
      "\n",
      " [[258 312 366]\n",
      "  [330 400 470]\n",
      "  [402 488 574]]]\n"
     ]
    }
   ],
   "source": [
    "dot11 = np.tensordot(a, b, axes=([1],[1]))\n",
    "dot20 = np.tensordot(a, b, axes=([2],[0]))\n",
    "\n",
    "print(\"Dot Product Along Axis 1 of A & Axis 1 of B:\", dot11.shape, \"\\n\", dot11)\n",
    "print(\"Dot Product Along Axis 2 of A & Axis 0 of B:\", dot20.shape, \"\\n\", dot20)"
   ]
  },
  {
   "cell_type": "code",
   "execution_count": 11,
   "id": "5349e1b5-2987-4623-b2ac-10a1a7d79bfb",
   "metadata": {},
   "outputs": [
    {
     "name": "stdout",
     "output_type": "stream",
     "text": [
      "Dot Product Along Axis [1,2] of A & Axis [1,0] of B: (2,) \n",
      " [ 440 1232]\n",
      "Dot Product Along Axis [2,1] of A & Axis [0,1] of B: (2,) \n",
      " [ 440 1232]\n",
      "Dot Product Along Last N Axes of A & First N Axes of B: (2,) \n",
      " [ 440 1232]\n"
     ]
    }
   ],
   "source": [
    "multi_dot12 = np.tensordot(a, b, axes=([1,2],[1,0]))\n",
    "multi_dot21 = np.tensordot(a, b, axes=([2,1],[0,1]))\n",
    "multi_dot = np.tensordot(a, b.T)\n",
    "\n",
    "print(\"Dot Product Along Axis [1,2] of A & Axis [1,0] of B:\", multi_dot12.shape, \"\\n\", multi_dot12)\n",
    "print(\"Dot Product Along Axis [2,1] of A & Axis [0,1] of B:\", multi_dot21.shape, \"\\n\", multi_dot21)\n",
    "print(\"Dot Product Along Last N Axes of A & First N Axes of B:\", multi_dot21.shape, \"\\n\", multi_dot)"
   ]
  },
  {
   "cell_type": "code",
   "execution_count": 16,
   "id": "4303214f-e85c-42e6-b9d4-59f376fb027d",
   "metadata": {},
   "outputs": [
    {
     "name": "stdout",
     "output_type": "stream",
     "text": [
      "Tensor a:  (2, 3, 4, 5, 6) \n",
      "\n",
      "Matrix b: (2, 3, 4, 5, 6) \n",
      "\n",
      "                 a Axes   b Axes           Resultant Shape     Answer\n",
      "a Axes             Last    First  (2, 3, 4, 5, 2, 3, 4, 5)       None\n",
      "b Axes           Last 2  First 2        (2, 3, 4, 2, 3, 4)       None\n",
      "Resultant Shape   [2,4]    [2,4]              (3, 5, 3, 5)       None\n",
      "Answer              All      All                        ()  124156920\n"
     ]
    }
   ],
   "source": [
    "a = np.arange(720).reshape(2,3,4,5,6)\n",
    "print(\"Tensor a: \", a.shape, \"\\n\")\n",
    "\n",
    "b = np.arange(720).reshape(2,3,4,5,6)\n",
    "print(\"Matrix b:\", b.shape, \"\\n\")\n",
    "\n",
    "dot1 = np.tensordot(a, b, axes = ([4],[4]))\n",
    "dot2 = np.tensordot(a, b, axes = ([3,4],[3,4]))\n",
    "dot3 = np.tensordot(a, b, axes = ([0,2,4],[0,2,4]))\n",
    "dot4 = np.tensordot(a, b, axes = ([0,1,2,3,4],[0,1,2,3,4]))\n",
    "\n",
    "headers = [\"a Axes\", \"b Axes\", \"Resultant Shape\", \"Answer\"]\n",
    "ans = [[\"Last\", \"First\", dot1.shape, ],\n",
    "      [\"Last 2\", \"First 2\", dot2.shape, ],\n",
    "      [\"[2,4]\", \"[2,4]\", dot3.shape, ],\n",
    "      [\"All\", \"All\", dot4.shape, dot4],]\n",
    "\n",
    "print(pd.DataFrame(ans,headers,headers))"
   ]
  },
  {
   "cell_type": "code",
   "execution_count": 19,
   "id": "06060583-2653-4d2f-9776-0aecab3d39d3",
   "metadata": {},
   "outputs": [
    {
     "name": "stdout",
     "output_type": "stream",
     "text": [
      "Permuted Matrix B: (4, 6, 3, 5, 2) \n",
      "\n",
      "A Axes to Sum Over:  [2 4 1 3 0]\n",
      "B Axes to Sum Over:  [2 4 1 3 0]\n",
      "Dot Product Along All Axes of Permuted A & All Axes of Permuted B: () \n",
      " 124156920\n",
      "Dot Product Along All Axes of A & All Axes of Permuted B: () \n",
      " 124156920\n"
     ]
    }
   ],
   "source": [
    "permute_axes = (2, 4, 1, 3, 0)\n",
    "permute_axes_arr = np.array(permute_axes)\n",
    "b_permute = np.transpose(b, permute_axes)\n",
    "print(\"Permuted Matrix B:\", b_permute.shape, \"\\n\")\n",
    "\n",
    "a_dim_shape = np.arange(a.ndim)\n",
    "b_dim_shape = np.arange(b.ndim)\n",
    "a_permute_dim_shape = a_dim_shape[permute_axes_arr]\n",
    "b_permute_dim_shape = b_dim_shape[permute_axes_arr]\n",
    "print(\"A Axes to Sum Over: \", a_permute_dim_shape)\n",
    "print(\"B Axes to Sum Over: \", a_permute_dim_shape)\n",
    "\n",
    "permute_dot1 = np.tensordot(a, b, axes=(a_permute_dim_shape, b_permute_dim_shape))\n",
    "permute_dot2 = np.tensordot(a, b_permute, axes=(a_permute_dim_shape, b_dim_shape))\n",
    "\n",
    "print(\"Dot Product Along All Axes of Permuted A & All Axes of Permuted B:\", permute_dot1.shape, \"\\n\", permute_dot1)\n",
    "print(\"Dot Product Along All Axes of A & All Axes of Permuted B:\", permute_dot2.shape, \"\\n\", permute_dot2)"
   ]
  },
  {
   "cell_type": "code",
   "execution_count": 20,
   "id": "2b6576de-37b3-42e1-8750-b63b4c00950d",
   "metadata": {},
   "outputs": [],
   "source": [
    "### Outer Products\n",
    "\n"
   ]
  }
 ],
 "metadata": {
  "kernelspec": {
   "display_name": "Python 3 (ipykernel)",
   "language": "python",
   "name": "python3"
  },
  "language_info": {
   "codemirror_mode": {
    "name": "ipython",
    "version": 3
   },
   "file_extension": ".py",
   "mimetype": "text/x-python",
   "name": "python",
   "nbconvert_exporter": "python",
   "pygments_lexer": "ipython3",
   "version": "3.9.12"
  }
 },
 "nbformat": 4,
 "nbformat_minor": 5
}
